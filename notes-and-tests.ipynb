{
 "cells": [
  {
   "cell_type": "code",
   "execution_count": 7,
   "metadata": {
    "collapsed": false
   },
   "outputs": [
    {
     "name": "stdout",
     "output_type": "stream",
     "text": [
      " Volume in drive C has no label.\n",
      " Volume Serial Number is BA19-41BB\n",
      "\n",
      " Directory of C:\\Users\\brudder\\Dropbox\\Classes\\Artificial-Intelligence-Udacity\\AIND-Isolation\n",
      "\n",
      "02/10/2017  12:20 PM    <DIR>          .\n",
      "02/10/2017  12:20 PM    <DIR>          ..\n",
      "02/10/2017  12:20 PM    <DIR>          .idea\n",
      "02/10/2017  12:20 PM    <DIR>          .ipynb_checkpoints\n",
      "02/09/2017  10:01 AM            22,741 agent_test.py\n",
      "02/10/2017  12:13 PM             8,213 game_agent.py\n",
      "02/09/2017  10:17 AM    <DIR>          isolation\n",
      "02/09/2017  10:01 AM             7,266 README.md\n",
      "02/09/2017  10:01 AM             8,952 sample_players.py\n",
      "02/09/2017  10:01 AM             7,263 tournament.py\n",
      "02/10/2017  12:20 PM                72 Untitled.ipynb\n",
      "               6 File(s)         54,507 bytes\n",
      "               5 Dir(s)  108,438,130,688 bytes free\n"
     ]
    }
   ],
   "source": [
    "%ls"
   ]
  },
  {
   "cell_type": "code",
   "execution_count": 1,
   "metadata": {
    "collapsed": false
   },
   "outputs": [],
   "source": [
    "import isolation\n",
    "import sample_players\n",
    "from game_agent import custom_score"
   ]
  },
  {
   "cell_type": "code",
   "execution_count": 2,
   "metadata": {
    "collapsed": false
   },
   "outputs": [],
   "source": [
    "p1 = sample_players.RandomPlayer()\n",
    "p2 = sample_players.GreedyPlayer()\n",
    "game = isolation.Board(p1, p2)"
   ]
  },
  {
   "cell_type": "code",
   "execution_count": 3,
   "metadata": {
    "collapsed": false
   },
   "outputs": [
    {
     "data": {
      "text/plain": [
       "49.0"
      ]
     },
     "execution_count": 3,
     "metadata": {},
     "output_type": "execute_result"
    }
   ],
   "source": [
    "custom_score(game, p1)"
   ]
  },
  {
   "cell_type": "code",
   "execution_count": 4,
   "metadata": {
    "collapsed": false,
    "scrolled": true
   },
   "outputs": [
    {
     "data": {
      "text/plain": [
       "49.0"
      ]
     },
     "execution_count": 4,
     "metadata": {},
     "output_type": "execute_result"
    }
   ],
   "source": [
    "float(len(game.get_legal_moves(p1)))"
   ]
  },
  {
   "cell_type": "code",
   "execution_count": null,
   "metadata": {
    "collapsed": true
   },
   "outputs": [],
   "source": []
  },
  {
   "cell_type": "code",
   "execution_count": 18,
   "metadata": {
    "collapsed": false,
    "scrolled": true
   },
   "outputs": [
    {
     "name": "stdout",
     "output_type": "stream",
     "text": [
      " |   |   |   |   |   |   |   | \n",
      "\r",
      " |   |   |   |   |   |   |   | \n",
      "\r",
      " |   |   |   |   |   |   |   | \n",
      "\r",
      " |   |   |   |   |   |   |   | \n",
      "\r",
      " |   |   |   |   |   |   |   | \n",
      "\r",
      " |   |   |   |   |   |   |   | \n",
      "\r",
      " |   |   |   |   |   |   |   | \n",
      "\r\n"
     ]
    }
   ],
   "source": [
    "print(game.to_string())"
   ]
  },
  {
   "cell_type": "code",
   "execution_count": null,
   "metadata": {
    "collapsed": true
   },
   "outputs": [],
   "source": []
  }
 ],
 "metadata": {
  "anaconda-cloud": {},
  "kernelspec": {
   "display_name": "Python [conda root]",
   "language": "python",
   "name": "conda-root-py"
  },
  "language_info": {
   "codemirror_mode": {
    "name": "ipython",
    "version": 3
   },
   "file_extension": ".py",
   "mimetype": "text/x-python",
   "name": "python",
   "nbconvert_exporter": "python",
   "pygments_lexer": "ipython3",
   "version": "3.5.2"
  }
 },
 "nbformat": 4,
 "nbformat_minor": 2
}
