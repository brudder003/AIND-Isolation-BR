{
 "cells": [
  {
   "cell_type": "code",
   "execution_count": 7,
   "metadata": {
    "collapsed": false
   },
   "outputs": [
    {
     "name": "stdout",
     "output_type": "stream",
     "text": [
      " Volume in drive C has no label.\n",
      " Volume Serial Number is BA19-41BB\n",
      "\n",
      " Directory of C:\\Users\\brudder\\Dropbox\\Classes\\Artificial-Intelligence-Udacity\\AIND-Isolation\n",
      "\n",
      "02/10/2017  12:20 PM    <DIR>          .\n",
      "02/10/2017  12:20 PM    <DIR>          ..\n",
      "02/10/2017  12:20 PM    <DIR>          .idea\n",
      "02/10/2017  12:20 PM    <DIR>          .ipynb_checkpoints\n",
      "02/09/2017  10:01 AM            22,741 agent_test.py\n",
      "02/10/2017  12:13 PM             8,213 game_agent.py\n",
      "02/09/2017  10:17 AM    <DIR>          isolation\n",
      "02/09/2017  10:01 AM             7,266 README.md\n",
      "02/09/2017  10:01 AM             8,952 sample_players.py\n",
      "02/09/2017  10:01 AM             7,263 tournament.py\n",
      "02/10/2017  12:20 PM                72 Untitled.ipynb\n",
      "               6 File(s)         54,507 bytes\n",
      "               5 Dir(s)  108,438,130,688 bytes free\n"
     ]
    }
   ],
   "source": [
    "%ls"
   ]
  },
  {
   "cell_type": "code",
   "execution_count": 1,
   "metadata": {
    "collapsed": false
   },
   "outputs": [],
   "source": [
    "import isolation\n",
    "import sample_players\n",
    "from game_agent import custom_score\n",
    "from game_agent import CustomPlayer"
   ]
  },
  {
   "cell_type": "code",
   "execution_count": 2,
   "metadata": {
    "collapsed": false
   },
   "outputs": [],
   "source": [
    "p1 = sample_players.RandomPlayer()\n",
    "p2 = sample_players.GreedyPlayer()\n",
    "p3 = CustomPlayer()\n",
    "game = isolation.Board(p1, p3)"
   ]
  },
  {
   "cell_type": "code",
   "execution_count": 3,
   "metadata": {
    "collapsed": false,
    "scrolled": false
   },
   "outputs": [
    {
     "name": "stdout",
     "output_type": "stream",
     "text": [
      "<sample_players.RandomPlayer object at 0x00000256A3F74160>\n",
      " |   |   |   |   |   |   |   | \n",
      "\r",
      " |   |   |   |   |   |   |   | \n",
      "\r",
      " |   |   |   |   |   |   |   | \n",
      "\r",
      " |   |   |   |   |   |   |   | \n",
      "\r",
      " |   |   |   |   |   | 1 |   | \n",
      "\r",
      " |   |   |   |   |   |   |   | \n",
      "\r",
      " |   |   |   |   |   |   |   | \n",
      "\r\n",
      "<game_agent.CustomPlayer object at 0x00000256A3F74208>\n",
      " |   |   |   |   |   |   |   | \n",
      "\r",
      " |   |   |   |   |   |   |   | \n",
      "\r",
      " |   |   |   |   | 2 |   |   | \n",
      "\r",
      " |   |   |   |   |   |   |   | \n",
      "\r",
      " |   |   |   |   |   | 1 |   | \n",
      "\r",
      " |   |   |   |   |   |   |   | \n",
      "\r",
      " |   |   |   |   |   |   |   | \n",
      "\r\n",
      "<sample_players.RandomPlayer object at 0x00000256A3F74160>\n",
      " |   |   |   |   |   |   |   | \n",
      "\r",
      " |   |   |   |   |   |   |   | \n",
      "\r",
      " |   |   |   |   | 2 |   |   | \n",
      "\r",
      " |   |   |   |   |   |   |   | \n",
      "\r",
      " |   |   |   |   |   | - |   | \n",
      "\r",
      " |   |   |   | 1 |   |   |   | \n",
      "\r",
      " |   |   |   |   |   |   |   | \n",
      "\r\n",
      "<game_agent.CustomPlayer object at 0x00000256A3F74208>\n",
      " |   |   |   |   |   |   |   | \n",
      "\r",
      " |   |   |   |   |   |   |   | \n",
      "\r",
      " |   |   |   |   | - |   |   | \n",
      "\r",
      " |   |   |   |   |   |   |   | \n",
      "\r",
      " |   |   |   | 2 |   | - |   | \n",
      "\r",
      " |   |   |   | 1 |   |   |   | \n",
      "\r",
      " |   |   |   |   |   |   |   | \n",
      "\r\n",
      "<sample_players.RandomPlayer object at 0x00000256A3F74160>\n",
      " |   |   |   |   |   |   |   | \n",
      "\r",
      " |   |   |   |   |   |   |   | \n",
      "\r",
      " |   |   |   |   | - |   |   | \n",
      "\r",
      " |   |   |   |   |   |   |   | \n",
      "\r",
      " |   |   |   | 2 |   | - |   | \n",
      "\r",
      " |   |   |   | - |   |   |   | \n",
      "\r",
      " |   |   |   |   |   | 1 |   | \n",
      "\r\n",
      "<game_agent.CustomPlayer object at 0x00000256A3F74208>\n",
      " |   |   |   |   |   |   |   | \n",
      "\r",
      " |   |   |   |   |   |   |   | \n",
      "\r",
      " |   |   |   |   | - |   |   | \n",
      "\r",
      " |   | 2 |   |   |   |   |   | \n",
      "\r",
      " |   |   |   | - |   | - |   | \n",
      "\r",
      " |   |   |   | - |   |   |   | \n",
      "\r",
      " |   |   |   |   |   | 1 |   | \n",
      "\r\n",
      "<sample_players.RandomPlayer object at 0x00000256A3F74160>\n",
      " |   |   |   |   |   |   |   | \n",
      "\r",
      " |   |   |   |   |   |   |   | \n",
      "\r",
      " |   |   |   |   | - |   |   | \n",
      "\r",
      " |   | 2 |   |   |   |   |   | \n",
      "\r",
      " |   |   |   | - | 1 | - |   | \n",
      "\r",
      " |   |   |   | - |   |   |   | \n",
      "\r",
      " |   |   |   |   |   | - |   | \n",
      "\r\n",
      "<game_agent.CustomPlayer object at 0x00000256A3F74208>\n",
      " |   |   |   |   |   |   |   | \n",
      "\r",
      " |   |   |   |   |   |   |   | \n",
      "\r",
      " |   |   |   | 2 | - |   |   | \n",
      "\r",
      " |   | - |   |   |   |   |   | \n",
      "\r",
      " |   |   |   | - | 1 | - |   | \n",
      "\r",
      " |   |   |   | - |   |   |   | \n",
      "\r",
      " |   |   |   |   |   | - |   | \n",
      "\r\n",
      "<sample_players.RandomPlayer object at 0x00000256A3F74160>\n",
      " |   |   |   |   |   |   |   | \n",
      "\r",
      " |   |   |   |   |   |   |   | \n",
      "\r",
      " |   |   |   | 2 | - |   |   | \n",
      "\r",
      " |   | - |   |   |   |   |   | \n",
      "\r",
      " |   |   |   | - | - | - |   | \n",
      "\r",
      " |   |   |   | - |   |   |   | \n",
      "\r",
      " |   |   |   | 1 |   | - |   | \n",
      "\r\n",
      "<game_agent.CustomPlayer object at 0x00000256A3F74208>\n",
      " |   |   |   |   |   |   |   | \n",
      "\r",
      " |   |   |   |   |   |   |   | \n",
      "\r",
      " |   |   |   | - | - |   |   | \n",
      "\r",
      " |   | - |   |   |   |   |   | \n",
      "\r",
      " |   |   | 2 | - | - | - |   | \n",
      "\r",
      " |   |   |   | - |   |   |   | \n",
      "\r",
      " |   |   |   | 1 |   | - |   | \n",
      "\r\n",
      "<sample_players.RandomPlayer object at 0x00000256A3F74160>\n",
      " |   |   |   |   |   |   |   | \n",
      "\r",
      " |   |   |   |   |   |   |   | \n",
      "\r",
      " |   |   |   | - | - |   |   | \n",
      "\r",
      " |   | - |   |   |   |   |   | \n",
      "\r",
      " |   |   | 2 | - | - | - |   | \n",
      "\r",
      " |   | 1 |   | - |   |   |   | \n",
      "\r",
      " |   |   |   | - |   | - |   | \n",
      "\r\n",
      "<game_agent.CustomPlayer object at 0x00000256A3F74208>\n",
      " |   |   |   |   |   |   |   | \n",
      "\r",
      " |   |   |   |   |   |   |   | \n",
      "\r",
      " |   | 2 |   | - | - |   |   | \n",
      "\r",
      " |   | - |   |   |   |   |   | \n",
      "\r",
      " |   |   | - | - | - | - |   | \n",
      "\r",
      " |   | 1 |   | - |   |   |   | \n",
      "\r",
      " |   |   |   | - |   | - |   | \n",
      "\r\n",
      "<sample_players.RandomPlayer object at 0x00000256A3F74160>\n",
      " |   |   |   |   |   |   |   | \n",
      "\r",
      " |   |   |   |   |   |   |   | \n",
      "\r",
      " |   | 2 |   | - | - |   |   | \n",
      "\r",
      " | 1 | - |   |   |   |   |   | \n",
      "\r",
      " |   |   | - | - | - | - |   | \n",
      "\r",
      " |   | - |   | - |   |   |   | \n",
      "\r",
      " |   |   |   | - |   | - |   | \n",
      "\r\n",
      "<game_agent.CustomPlayer object at 0x00000256A3F74208>\n",
      " |   |   | 2 |   |   |   |   | \n",
      "\r",
      " |   |   |   |   |   |   |   | \n",
      "\r",
      " |   | - |   | - | - |   |   | \n",
      "\r",
      " | 1 | - |   |   |   |   |   | \n",
      "\r",
      " |   |   | - | - | - | - |   | \n",
      "\r",
      " |   | - |   | - |   |   |   | \n",
      "\r",
      " |   |   |   | - |   | - |   | \n",
      "\r\n",
      "<sample_players.RandomPlayer object at 0x00000256A3F74160>\n",
      " |   |   | 2 |   |   |   |   | \n",
      "\r",
      " |   |   |   |   |   |   |   | \n",
      "\r",
      " |   | - | 1 | - | - |   |   | \n",
      "\r",
      " | - | - |   |   |   |   |   | \n",
      "\r",
      " |   |   | - | - | - | - |   | \n",
      "\r",
      " |   | - |   | - |   |   |   | \n",
      "\r",
      " |   |   |   | - |   | - |   | \n",
      "\r\n",
      "<game_agent.CustomPlayer object at 0x00000256A3F74208>\n",
      " |   |   | - |   |   |   |   | \n",
      "\r",
      " |   |   |   |   | 2 |   |   | \n",
      "\r",
      " |   | - | 1 | - | - |   |   | \n",
      "\r",
      " | - | - |   |   |   |   |   | \n",
      "\r",
      " |   |   | - | - | - | - |   | \n",
      "\r",
      " |   | - |   | - |   |   |   | \n",
      "\r",
      " |   |   |   | - |   | - |   | \n",
      "\r\n",
      "<sample_players.RandomPlayer object at 0x00000256A3F74160>\n",
      " |   |   | - |   |   |   |   | \n",
      "\r",
      " |   |   |   |   | 2 |   |   | \n",
      "\r",
      " |   | - | - | - | - |   |   | \n",
      "\r",
      " | - | - |   |   |   |   |   | \n",
      "\r",
      " |   | 1 | - | - | - | - |   | \n",
      "\r",
      " |   | - |   | - |   |   |   | \n",
      "\r",
      " |   |   |   | - |   | - |   | \n",
      "\r\n",
      "<game_agent.CustomPlayer object at 0x00000256A3F74208>\n",
      " |   |   | - |   |   |   |   | \n",
      "\r",
      " |   |   |   |   | - |   |   | \n",
      "\r",
      " |   | - | - | - | - |   |   | \n",
      "\r",
      " | - | - |   | 2 |   |   |   | \n",
      "\r",
      " |   | 1 | - | - | - | - |   | \n",
      "\r",
      " |   | - |   | - |   |   |   | \n",
      "\r",
      " |   |   |   | - |   | - |   | \n",
      "\r\n",
      "<sample_players.RandomPlayer object at 0x00000256A3F74160>\n",
      " |   |   | - |   |   |   |   | \n",
      "\r",
      " |   |   |   |   | - |   |   | \n",
      "\r",
      " |   | - | - | - | - |   |   | \n",
      "\r",
      " | - | - |   | 2 |   |   |   | \n",
      "\r",
      " |   | - | - | - | - | - |   | \n",
      "\r",
      " |   | - |   | - |   |   |   | \n",
      "\r",
      " | 1 |   |   | - |   | - |   | \n",
      "\r\n",
      "<game_agent.CustomPlayer object at 0x00000256A3F74208>\n",
      " |   |   | - |   |   |   |   | \n",
      "\r",
      " |   |   |   |   | - |   |   | \n",
      "\r",
      " |   | - | - | - | - |   |   | \n",
      "\r",
      " | - | - |   | - |   |   |   | \n",
      "\r",
      " |   | - | - | - | - | - |   | \n",
      "\r",
      " |   | - | 2 | - |   |   |   | \n",
      "\r",
      " | 1 |   |   | - |   | - |   | \n",
      "\r\n"
     ]
    }
   ],
   "source": [
    "winner, history, outcome = game.play()"
   ]
  },
  {
   "cell_type": "code",
   "execution_count": 4,
   "metadata": {
    "collapsed": false
   },
   "outputs": [
    {
     "data": {
      "text/plain": [
       "<game_agent.CustomPlayer at 0x256a3f74208>"
      ]
     },
     "execution_count": 4,
     "metadata": {},
     "output_type": "execute_result"
    }
   ],
   "source": [
    "winner"
   ]
  },
  {
   "cell_type": "code",
   "execution_count": 5,
   "metadata": {
    "collapsed": false,
    "scrolled": true
   },
   "outputs": [
    {
     "data": {
      "text/plain": [
       "'illegal move'"
      ]
     },
     "execution_count": 5,
     "metadata": {},
     "output_type": "execute_result"
    }
   ],
   "source": [
    "outcome"
   ]
  },
  {
   "cell_type": "code",
   "execution_count": 20,
   "metadata": {
    "collapsed": false,
    "scrolled": false
   },
   "outputs": [
    {
     "name": "stdout",
     "output_type": "stream",
     "text": [
      " |   |   |   |   |   |   | 1 | \n",
      "\r",
      " |   |   |   |   |   |   |   | \n",
      "\r",
      " |   |   |   |   |   |   |   | \n",
      "\r",
      " |   |   |   |   |   |   |   | \n",
      "\r",
      " |   |   |   |   |   |   |   | \n",
      "\r",
      " |   |   |   |   |   |   |   | \n",
      "\r",
      " |   |   |   |   |   |   |   | \n",
      "\r\n"
     ]
    }
   ],
   "source": [
    "print(game.to_string())"
   ]
  },
  {
   "cell_type": "code",
   "execution_count": 8,
   "metadata": {
    "collapsed": true
   },
   "outputs": [],
   "source": [
    "from itertools import product"
   ]
  },
  {
   "cell_type": "code",
   "execution_count": 16,
   "metadata": {
    "collapsed": false,
    "scrolled": true
   },
   "outputs": [
    {
     "data": {
      "text/plain": [
       "[(2, 2), (2, 3), (2, 4), (3, 2), (3, 3), (3, 4), (4, 2), (4, 3), (4, 4)]"
      ]
     },
     "execution_count": 16,
     "metadata": {},
     "output_type": "execute_result"
    }
   ],
   "source": [
    "list(product(range((game.height // 2 - 1), (game.height - game.height // 2 + 1)), range((game.width // 2 - 1), (game.width - game.width // 2 + 1))))"
   ]
  },
  {
   "cell_type": "code",
   "execution_count": 13,
   "metadata": {
    "collapsed": false
   },
   "outputs": [],
   "source": [
    "product(range((game.height // 2 - 1), (game.height - game.height // 2 + 1)), range((game.width // 2 - 1), (game.width - game.width // 2 + 1)))"
   ]
  },
  {
   "cell_type": "code",
   "execution_count": 15,
   "metadata": {
    "collapsed": false
   },
   "outputs": [
    {
     "name": "stdout",
     "output_type": "stream",
     "text": [
      "<itertools.product object at 0x00000256A3F6EBD0>\n"
     ]
    }
   ],
   "source": [
    "print(x)"
   ]
  },
  {
   "cell_type": "code",
   "execution_count": 22,
   "metadata": {
    "collapsed": true
   },
   "outputs": [],
   "source": [
    "def makeMove(game, time_limit):\n",
    "    time_limit = 200\n",
    "    game_copy = game.copy()\n",
    "    legal_moves = game.get_legal_moves()\n",
    "    curr_move = game.active_player.get_move(game_copy, legal_moves, time_limit)\n",
    "    \n",
    "    return game.apply_move(curr_move)"
   ]
  },
  {
   "cell_type": "code",
   "execution_count": 8,
   "metadata": {
    "collapsed": true
   },
   "outputs": [],
   "source": [
    "legal_moves = game.get_legal_moves()"
   ]
  },
  {
   "cell_type": "code",
   "execution_count": 6,
   "metadata": {
    "collapsed": false,
    "scrolled": false
   },
   "outputs": [],
   "source": [
    "game.apply_move(p1.get_move(game, legal_moves, 200))"
   ]
  },
  {
   "cell_type": "code",
   "execution_count": 15,
   "metadata": {
    "collapsed": false
   },
   "outputs": [
    {
     "data": {
      "text/plain": [
       "<sample_players.RandomPlayer at 0x1afdcb0c860>"
      ]
     },
     "execution_count": 15,
     "metadata": {},
     "output_type": "execute_result"
    }
   ],
   "source": [
    "game.active_player"
   ]
  },
  {
   "cell_type": "code",
   "execution_count": 7,
   "metadata": {
    "collapsed": false
   },
   "outputs": [
    {
     "data": {
      "text/plain": [
       "1"
      ]
     },
     "execution_count": 7,
     "metadata": {},
     "output_type": "execute_result"
    }
   ],
   "source": [
    "game.move_count"
   ]
  },
  {
   "cell_type": "code",
   "execution_count": 21,
   "metadata": {
    "collapsed": false
   },
   "outputs": [],
   "source": [
    "game.apply_move((0,0))"
   ]
  },
  {
   "cell_type": "code",
   "execution_count": 17,
   "metadata": {
    "collapsed": false
   },
   "outputs": [],
   "source": [
    "center_square = (game.height//2,game.width//2)"
   ]
  },
  {
   "cell_type": "code",
   "execution_count": null,
   "metadata": {
    "collapsed": true
   },
   "outputs": [],
   "source": [
    "rando = sample_players.RandomPlayer()\n",
    "me = game_agent.CustomPlayer()\n",
    "game = isolation.Board(me, rando)"
   ]
  },
  {
   "cell_type": "code",
   "execution_count": 38,
   "metadata": {
    "collapsed": false
   },
   "outputs": [],
   "source": [
    "x = list(product(center_square, (center_square[0] + 1, center_square[1] -1)))"
   ]
  },
  {
   "cell_type": "code",
   "execution_count": 41,
   "metadata": {
    "collapsed": false
   },
   "outputs": [
    {
     "name": "stdout",
     "output_type": "stream",
     "text": [
      "[(3, 4), (3, 2), (3, 4), (3, 2), (3, 3)]\n"
     ]
    }
   ],
   "source": [
    "print(x)"
   ]
  },
  {
   "cell_type": "code",
   "execution_count": 40,
   "metadata": {
    "collapsed": true
   },
   "outputs": [],
   "source": [
    "x.append(center_square)"
   ]
  },
  {
   "cell_type": "code",
   "execution_count": 18,
   "metadata": {
    "collapsed": false
   },
   "outputs": [],
   "source": [
    "loc = game.get_player_location(p1)"
   ]
  },
  {
   "cell_type": "code",
   "execution_count": 22,
   "metadata": {
    "collapsed": true
   },
   "outputs": [],
   "source": [
    "loc2 = game.get_player_location(p2)"
   ]
  },
  {
   "cell_type": "code",
   "execution_count": 24,
   "metadata": {
    "collapsed": true
   },
   "outputs": [],
   "source": [
    "L1_norm_me = abs(loc[0] - center_square[0]) + abs(loc[1] - center_square[1])"
   ]
  },
  {
   "cell_type": "code",
   "execution_count": 26,
   "metadata": {
    "collapsed": true
   },
   "outputs": [],
   "source": [
    "L1_norm_oppo = abs(loc2[0] - center_square[0]) + abs(loc2[1] - center_square[1])"
   ]
  },
  {
   "cell_type": "code",
   "execution_count": 27,
   "metadata": {
    "collapsed": false,
    "scrolled": true
   },
   "outputs": [
    {
     "data": {
      "text/plain": [
       "6"
      ]
     },
     "execution_count": 27,
     "metadata": {},
     "output_type": "execute_result"
    }
   ],
   "source": [
    "L1_norm_oppo"
   ]
  },
  {
   "cell_type": "code",
   "execution_count": 35,
   "metadata": {
    "collapsed": false
   },
   "outputs": [],
   "source": [
    "x = game.get_legal_moves()"
   ]
  },
  {
   "cell_type": "code",
   "execution_count": 37,
   "metadata": {
    "collapsed": false
   },
   "outputs": [
    {
     "data": {
      "text/plain": [
       "True"
      ]
     },
     "execution_count": 37,
     "metadata": {},
     "output_type": "execute_result"
    }
   ],
   "source": [
    "(3,3) in x"
   ]
  },
  {
   "cell_type": "code",
   "execution_count": null,
   "metadata": {
    "collapsed": true
   },
   "outputs": [],
   "source": [
    "game."
   ]
  },
  {
   "cell_type": "code",
   "execution_count": 28,
   "metadata": {
    "collapsed": false
   },
   "outputs": [
    {
     "data": {
      "text/plain": [
       "2"
      ]
     },
     "execution_count": 28,
     "metadata": {},
     "output_type": "execute_result"
    }
   ],
   "source": [
    "game.move_count"
   ]
  },
  {
   "cell_type": "code",
   "execution_count": 18,
   "metadata": {
    "collapsed": false
   },
   "outputs": [],
   "source": [
    "x =game.active_player"
   ]
  },
  {
   "cell_type": "code",
   "execution_count": 21,
   "metadata": {
    "collapsed": false
   },
   "outputs": [
    {
     "ename": "TypeError",
     "evalue": "get_move() missing 2 required positional arguments: 'legal_moves' and 'time_left'",
     "output_type": "error",
     "traceback": [
      "\u001b[0;31m---------------------------------------------------------------------------\u001b[0m",
      "\u001b[0;31mTypeError\u001b[0m                                 Traceback (most recent call last)",
      "\u001b[0;32m<ipython-input-21-a9f9c49d5e03>\u001b[0m in \u001b[0;36m<module>\u001b[0;34m()\u001b[0m\n\u001b[0;32m----> 1\u001b[0;31m \u001b[0mx\u001b[0m\u001b[1;33m.\u001b[0m\u001b[0mget_move\u001b[0m\u001b[1;33m(\u001b[0m\u001b[0mgame\u001b[0m\u001b[1;33m)\u001b[0m\u001b[1;33m\u001b[0m\u001b[0m\n\u001b[0m",
      "\u001b[0;31mTypeError\u001b[0m: get_move() missing 2 required positional arguments: 'legal_moves' and 'time_left'"
     ]
    }
   ],
   "source": [
    "x.get_move(game)"
   ]
  },
  {
   "cell_type": "code",
   "execution_count": null,
   "metadata": {
    "collapsed": true
   },
   "outputs": [],
   "source": []
  },
  {
   "cell_type": "code",
   "execution_count": 5,
   "metadata": {
    "collapsed": false,
    "scrolled": false
   },
   "outputs": [
    {
     "name": "stdout",
     "output_type": "stream",
     "text": [
      " |   |   |   |   |   |   |   | \n",
      "\r",
      " |   |   |   |   |   |   |   | \n",
      "\r",
      " |   |   |   |   |   |   |   | \n",
      "\r",
      " |   |   |   |   |   |   |   | \n",
      "\r",
      " |   |   |   |   |   |   |   | \n",
      "\r",
      " |   |   |   |   |   |   |   | \n",
      "\r",
      " |   |   |   |   |   |   |   | \n",
      "\r\n"
     ]
    }
   ],
   "source": [
    "print(game.to_string())"
   ]
  },
  {
   "cell_type": "code",
   "execution_count": 21,
   "metadata": {
    "collapsed": true
   },
   "outputs": [],
   "source": [
    "import timeit"
   ]
  },
  {
   "cell_type": "code",
   "execution_count": 22,
   "metadata": {
    "collapsed": true
   },
   "outputs": [],
   "source": [
    "time_limit = 200"
   ]
  },
  {
   "cell_type": "code",
   "execution_count": 23,
   "metadata": {
    "collapsed": true
   },
   "outputs": [],
   "source": [
    "curr_time_millis = lambda: 1000 * timeit.default_timer()"
   ]
  },
  {
   "cell_type": "code",
   "execution_count": 24,
   "metadata": {
    "collapsed": false,
    "scrolled": true
   },
   "outputs": [],
   "source": [
    "move_start = curr_time_millis()"
   ]
  },
  {
   "cell_type": "code",
   "execution_count": 25,
   "metadata": {
    "collapsed": false
   },
   "outputs": [
    {
     "data": {
      "text/plain": [
       "87012.21807890097"
      ]
     },
     "execution_count": 25,
     "metadata": {},
     "output_type": "execute_result"
    }
   ],
   "source": [
    "move_start"
   ]
  },
  {
   "cell_type": "code",
   "execution_count": 26,
   "metadata": {
    "collapsed": true
   },
   "outputs": [],
   "source": [
    "time_left = lambda : time_limit - (curr_time_millis() - move_start)"
   ]
  },
  {
   "cell_type": "code",
   "execution_count": 27,
   "metadata": {
    "collapsed": false
   },
   "outputs": [],
   "source": [
    "move_end = time_left()"
   ]
  },
  {
   "cell_type": "markdown",
   "metadata": {},
   "source": [
    "move_end"
   ]
  },
  {
   "cell_type": "code",
   "execution_count": 28,
   "metadata": {
    "collapsed": false
   },
   "outputs": [
    {
     "data": {
      "text/plain": [
       "173.47080433413794"
      ]
     },
     "execution_count": 28,
     "metadata": {},
     "output_type": "execute_result"
    }
   ],
   "source": [
    "move_end"
   ]
  },
  {
   "cell_type": "code",
   "execution_count": 30,
   "metadata": {
    "collapsed": false
   },
   "outputs": [
    {
     "data": {
      "text/plain": [
       "range(0, 3)"
      ]
     },
     "execution_count": 30,
     "metadata": {},
     "output_type": "execute_result"
    }
   ],
   "source": [
    "range(3)"
   ]
  },
  {
   "cell_type": "code",
   "execution_count": 37,
   "metadata": {
    "collapsed": false
   },
   "outputs": [
    {
     "name": "stdout",
     "output_type": "stream",
     "text": [
      "1\n",
      "2\n",
      "3\n",
      "4\n",
      "5\n",
      "6\n",
      "7\n",
      "8\n",
      "9\n"
     ]
    }
   ],
   "source": [
    "for i in range(1,10):\n",
    "    print(i)"
   ]
  },
  {
   "cell_type": "code",
   "execution_count": null,
   "metadata": {
    "collapsed": true
   },
   "outputs": [],
   "source": []
  }
 ],
 "metadata": {
  "anaconda-cloud": {},
  "kernelspec": {
   "display_name": "Python [conda root]",
   "language": "python",
   "name": "conda-root-py"
  },
  "language_info": {
   "codemirror_mode": {
    "name": "ipython",
    "version": 3
   },
   "file_extension": ".py",
   "mimetype": "text/x-python",
   "name": "python",
   "nbconvert_exporter": "python",
   "pygments_lexer": "ipython3",
   "version": "3.5.2"
  }
 },
 "nbformat": 4,
 "nbformat_minor": 2
}
